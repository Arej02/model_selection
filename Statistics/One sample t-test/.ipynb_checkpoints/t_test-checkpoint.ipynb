{
 "cells": [
  {
   "cell_type": "markdown",
   "id": "bc8c5aa8-4e9b-46e5-ae49-f50246c8129f",
   "metadata": {},
   "source": [
    "#### Manufacturing Claim:\n",
    "A factory claims their machines produce bolts with mean length = 5 cm. You measure 40 bolts and find:\n",
    "\n",
    "Sample mean = 5.2 cm, Sample std dev = 0.6 cm\n",
    "\n",
    "Is there evidence to reject the claim at α = 0.05?"
   ]
  },
  {
   "cell_type": "code",
   "execution_count": 2,
   "id": "6af1a225-1ad9-463d-979f-23f2701fc4ab",
   "metadata": {},
   "outputs": [
    {
     "name": "stdout",
     "output_type": "stream",
     "text": [
      "t-statistic: 2.27, p-value: 0.0290\n"
     ]
    }
   ],
   "source": [
    "from scipy.stats import ttest_1samp\n",
    "import numpy as np\n",
    "\n",
    "sample=np.random.normal(loc=5.2,scale=0.6,size=40)\n",
    "t_stat,p_value=ttest_1samp(sample,popmean=5)\n",
    "print(f\"t-statistic: {t_stat:.2f}, p-value: {p_value:.4f}\") "
   ]
  },
  {
   "cell_type": "markdown",
   "id": "b39b2930-26bd-45d4-879b-86ed38de3bee",
   "metadata": {},
   "source": [
    "1. Since sampling distribution (n=40>30) CLT applies and since we have sample standarad deviation we use one sample t-test to accoun for the extra uncertaninty.\n",
    "2. Since this is not equal to so we use a two tailed test.\n",
    "3. I found out the t statstics to be 2.27 and just looking by it I can reject the null hypothesis since the test value is 2.27 standard error from the  hypothesized mean.\n",
    "4. Logically t-distribution follows noraml distribution when n is very large so t-distribution is like noraml distribution but here we are less confident and the standard deviation(sample) is not constant.\n",
    "5. t-distribution has thicker tails (higher critical values) than z-distribution to account for uncertainty in s.\n",
    "6. Here, since p-value<significance level we reject the null hypothesis."
   ]
  },
  {
   "cell_type": "code",
   "execution_count": null,
   "id": "6b8809de-912a-4de6-87f3-b597ac050965",
   "metadata": {},
   "outputs": [],
   "source": []
  }
 ],
 "metadata": {
  "kernelspec": {
   "display_name": "Python 3 (ipykernel)",
   "language": "python",
   "name": "python3"
  },
  "language_info": {
   "codemirror_mode": {
    "name": "ipython",
    "version": 3
   },
   "file_extension": ".py",
   "mimetype": "text/x-python",
   "name": "python",
   "nbconvert_exporter": "python",
   "pygments_lexer": "ipython3",
   "version": "3.13.0"
  }
 },
 "nbformat": 4,
 "nbformat_minor": 5
}
