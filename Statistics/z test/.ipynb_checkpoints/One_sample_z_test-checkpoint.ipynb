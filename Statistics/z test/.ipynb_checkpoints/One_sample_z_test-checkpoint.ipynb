{
 "cells": [
  {
   "cell_type": "code",
   "execution_count": 1,
   "id": "14e34b0e-b914-41c0-b025-243dec7613aa",
   "metadata": {},
   "outputs": [],
   "source": [
    "import pandas as pd\n",
    "import numpy as np\n",
    "from statsmodels.stats.weightstats import ztest "
   ]
  },
  {
   "cell_type": "markdown",
   "id": "2b447596-0ab7-4e6c-a47d-46f9934417be",
   "metadata": {},
   "source": [
    "Suppose a large university claims that the average ACT score of their incoming freshman class is 30, but we think the University may be inflating their average. To test the University’s claim we take a simple random sample of 50 students and find their average to be only 28.3 with an SD of 4. Perform a hypothesis test to test the claim. "
   ]
  },
  {
   "cell_type": "markdown",
   "id": "fe195857-6761-4d83-bac3-c7d16f74b9c5",
   "metadata": {},
   "source": [
    "**Null Hypothesis:** The average ACT score is 30\n",
    "\n",
    "**Alternate Hypothesis:** The average ACT score is not 30"
   ]
  },
  {
   "cell_type": "code",
   "execution_count": 3,
   "id": "d6017d55-afe5-45db-90a6-2e583511ed0b",
   "metadata": {},
   "outputs": [
    {
     "data": {
      "text/plain": [
       "array([33.62634602, 31.1611159 , 22.11839883, 28.2664646 , 30.7853439 ,\n",
       "       25.41965776, 29.36204634, 28.7341941 , 28.31716572, 27.60159916,\n",
       "       30.03210476, 33.1121495 , 24.43973732, 32.41309631, 29.21452052,\n",
       "       30.08055045, 23.75359115, 28.84054751, 34.23814801, 23.98078046,\n",
       "       20.38908688, 21.32651082, 29.36428066, 37.83986932, 32.79476501,\n",
       "       34.99048885, 28.69659686, 33.89198551, 27.21500805, 30.75281674,\n",
       "       27.23073125, 26.10276394, 28.83083318, 26.39543194, 33.53389232,\n",
       "       29.08005312, 29.90083995, 26.94947065, 33.32588906, 25.37212199,\n",
       "       30.9409262 , 26.89651243, 24.54226656, 26.34265113, 25.08163543,\n",
       "       27.44920945, 26.94343902, 29.54867975, 30.56061068, 27.71031897])"
      ]
     },
     "execution_count": 3,
     "metadata": {},
     "output_type": "execute_result"
    }
   ],
   "source": [
    "np.random.seed(10)\n",
    "sample_data = np.random.normal(loc=28.3, scale=4, size=50)\n",
    "sample_data"
   ]
  },
  {
   "cell_type": "code",
   "execution_count": 5,
   "id": "5e6dcc4b-da6f-4e2f-aa37-b080d5be1b22",
   "metadata": {},
   "outputs": [
    {
     "name": "stdout",
     "output_type": "stream",
     "text": [
      "Z-statistic: -2.505767043551678\n",
      "P-value: 0.006109304630850882\n"
     ]
    }
   ],
   "source": [
    "z_stat, p_value = ztest(sample_data, value=30, alternative='smaller')\n",
    "\n",
    "print(\"Z-statistic:\", z_stat)\n",
    "print(\"P-value:\", p_value)"
   ]
  },
  {
   "cell_type": "code",
   "execution_count": null,
   "id": "8cff09e0-4abe-4cb4-94a9-76391e9f1d4f",
   "metadata": {},
   "outputs": [],
   "source": []
  }
 ],
 "metadata": {
  "kernelspec": {
   "display_name": "Python 3 (ipykernel)",
   "language": "python",
   "name": "python3"
  },
  "language_info": {
   "codemirror_mode": {
    "name": "ipython",
    "version": 3
   },
   "file_extension": ".py",
   "mimetype": "text/x-python",
   "name": "python",
   "nbconvert_exporter": "python",
   "pygments_lexer": "ipython3",
   "version": "3.13.0"
  }
 },
 "nbformat": 4,
 "nbformat_minor": 5
}
