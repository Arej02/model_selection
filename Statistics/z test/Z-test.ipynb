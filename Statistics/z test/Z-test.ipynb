{
 "cells": [
  {
   "cell_type": "code",
   "execution_count": 1,
   "id": "c7d1e9be-a46b-4dfc-8106-9bc16c13c2e3",
   "metadata": {},
   "outputs": [],
   "source": [
    "import pandas as pd"
   ]
  },
  {
   "cell_type": "markdown",
   "id": "67491a5f-9252-48bf-a78c-03b490c63d27",
   "metadata": {},
   "source": [
    "# Scenario 1: \n",
    "A company claims that the average IQ of its employees is 105 with a known population standard deviation of 15. You collect a sample of 30 employees and record their IQs."
   ]
  },
  {
   "cell_type": "code",
   "execution_count": 2,
   "id": "d733ba7e-007c-46c4-972d-d44282d970ed",
   "metadata": {},
   "outputs": [],
   "source": [
    "data=[98, 105, 110, 102, 95, 108, 107, 112, 103, 100, 99, 104, 108, 106, 101, 97, 105, 109, 111, 104, 102, 100, 106, 103, 107, 105, 108, 110, 102, 99]"
   ]
  },
  {
   "cell_type": "markdown",
   "id": "a343be79-9273-4f2e-b84f-eba2ae09ac08",
   "metadata": {},
   "source": [
    "# Hypotheses:\n",
    "\n",
    "H0: μ=105\n",
    "\n",
    "Ha: μ!=105 "
   ]
  },
  {
   "cell_type": "code",
   "execution_count": 3,
   "id": "feb9f639-ceeb-4a7a-beba-47902a4c19c7",
   "metadata": {},
   "outputs": [
    {
     "data": {
      "text/plain": [
       "30"
      ]
     },
     "execution_count": 3,
     "metadata": {},
     "output_type": "execute_result"
    }
   ],
   "source": [
    "population_mean=105\n",
    "population_std=15\n",
    "sample_size=len(data)\n",
    "sample_size"
   ]
  },
  {
   "cell_type": "code",
   "execution_count": 4,
   "id": "30557f85-1272-472a-94ef-028d6e4c6070",
   "metadata": {},
   "outputs": [
    {
     "data": {
      "text/plain": [
       "104.2"
      ]
     },
     "execution_count": 4,
     "metadata": {},
     "output_type": "execute_result"
    }
   ],
   "source": [
    "import numpy as np\n",
    "sample_mean=np.mean(data)\n",
    "sample_mean"
   ]
  },
  {
   "cell_type": "code",
   "execution_count": 5,
   "id": "f71b3bbc-c407-4c59-856c-b548a2232c48",
   "metadata": {},
   "outputs": [
    {
     "data": {
      "text/plain": [
       "-0.29211869733608753"
      ]
     },
     "execution_count": 5,
     "metadata": {},
     "output_type": "execute_result"
    }
   ],
   "source": [
    "z_statistics=(sample_mean-population_mean)/(population_std/np.sqrt(sample_size))\n",
    "z_statistics"
   ]
  },
  {
   "cell_type": "code",
   "execution_count": 9,
   "id": "ed7071bb-4baf-4e25-9fc5-f747e899be60",
   "metadata": {},
   "outputs": [
    {
     "name": "stdout",
     "output_type": "stream",
     "text": [
      "z-statistic: -0.29211869733608753\n",
      "p-value: 0.7701958714564108\n"
     ]
    }
   ],
   "source": [
    "from scipy.stats import norm\n",
    "\n",
    "p_value=2*(1-norm.cdf(abs(z_statistics)))\n",
    "print(\"z-statistic:\", z_statistics)\n",
    "print(\"p-value:\", p_value)"
   ]
  },
  {
   "cell_type": "markdown",
   "id": "188b2d77-07b0-4cb4-9735-00d351bc531e",
   "metadata": {},
   "source": [
    "Conclusion: Assuming that the significance level is 0.05,since the p-value (0.77)> significance level we fail to reject the null hypothesis. Given the sample data we do not have enough evidence to reject the null hypothesis that the mean IQ of the employee is 105.\n",
    "\n",
    "p_value=2*(1-norm.cdf(abs(z_statistics))): This is computing the two-tailed p-value for one sample z-test.\n",
    "norm.cdf(...): It gives the probability that a standard normal variable (z) is less than or equal to x."
   ]
  },
  {
   "cell_type": "code",
   "execution_count": 12,
   "id": "296a848b-878c-4bc7-91a4-a428310ffa02",
   "metadata": {},
   "outputs": [],
   "source": [
    "a=norm.cdf(1.5) # area to the left"
   ]
  },
  {
   "cell_type": "code",
   "execution_count": 13,
   "id": "96d836ab-8889-47fa-ba43-e48e080dd619",
   "metadata": {},
   "outputs": [],
   "source": [
    "b=1-a # area to the right"
   ]
  },
  {
   "cell_type": "code",
   "execution_count": 16,
   "id": "a9df004e-be55-4744-954f-be1393908b16",
   "metadata": {},
   "outputs": [
    {
     "data": {
      "text/plain": [
       "0.13361440253771617"
      ]
     },
     "execution_count": 16,
     "metadata": {},
     "output_type": "execute_result"
    }
   ],
   "source": [
    "p_value = 2 * b # total area in both tails\n",
    "p_value"
   ]
  }
 ],
 "metadata": {
  "kernelspec": {
   "display_name": "Python 3 (ipykernel)",
   "language": "python",
   "name": "python3"
  },
  "language_info": {
   "codemirror_mode": {
    "name": "ipython",
    "version": 3
   },
   "file_extension": ".py",
   "mimetype": "text/x-python",
   "name": "python",
   "nbconvert_exporter": "python",
   "pygments_lexer": "ipython3",
   "version": "3.13.0"
  }
 },
 "nbformat": 4,
 "nbformat_minor": 5
}
