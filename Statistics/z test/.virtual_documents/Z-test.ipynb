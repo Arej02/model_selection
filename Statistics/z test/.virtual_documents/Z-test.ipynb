import pandas as pd





data=[98, 105, 110, 102, 95, 108, 107, 112, 103, 100, 99, 104, 108, 106, 101, 97, 105, 109, 111, 104, 102, 100, 106, 103, 107, 105, 108, 110, 102, 99]





population_mean=105
population_std=15
sample_size=len(data)
sample_size


import numpy as np
sample_mean=np.mean(data)
sample_mean


z_statistics=(sample_mean-population_mean)/(population_std/np.sqrt(sample_size))
z_statistics


from scipy.stats import norm

p_value=2*(1-norm.cdf(abs(z_statistics)))
print("z-statistic:", z_statistics)
print("p-value:", p_value)





a=norm.cdf(1.5) # area to the left


b=1-a # area to the right


p_value = 2 * b # total area in both tails
p_value
