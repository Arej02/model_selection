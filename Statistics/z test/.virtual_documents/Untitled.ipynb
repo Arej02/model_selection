import pandas as pd





data=[98, 105, 110, 102, 95, 108, 107, 112, 103, 100, 99, 104, 108, 106, 101, 97, 105, 109, 111, 104, 102, 100, 106, 103, 107, 105, 108, 110, 102, 99]





population_mean=105
population_std=15
sample_size=len(data)
sample_size



