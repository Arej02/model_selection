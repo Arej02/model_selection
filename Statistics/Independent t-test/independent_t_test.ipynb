{
 "cells": [
  {
   "cell_type": "code",
   "execution_count": 1,
   "id": "7eac1f82-2ebb-4fff-a19b-a76f4a00bc72",
   "metadata": {},
   "outputs": [],
   "source": [
    "import pandas as pd\n",
    "import numpy as np"
   ]
  },
  {
   "cell_type": "code",
   "execution_count": 2,
   "id": "be13b3b8-a0e0-4cd2-91b4-a50f9d44b90f",
   "metadata": {},
   "outputs": [],
   "source": [
    "groupA= [78, 85, 82, 79, 80, 88, 84, 81, 83, 87]\n",
    "groupB= [75, 78, 80, 73, 77, 79, 81, 76, 74, 72]"
   ]
  },
  {
   "cell_type": "markdown",
   "id": "a80b456b-5d3e-4623-bd7a-a5382b6d9951",
   "metadata": {},
   "source": [
    "H0: The means of both the group is similar\n",
    "\n",
    "H1: The means of both the group are different"
   ]
  },
  {
   "cell_type": "code",
   "execution_count": 9,
   "id": "1cbaaacb-4997-4496-9f19-aadb6a0c49db",
   "metadata": {},
   "outputs": [
    {
     "name": "stdout",
     "output_type": "stream",
     "text": [
      "82.7 3.1638584039112754\n"
     ]
    }
   ],
   "source": [
    "mean_groupA=np.mean(groupA)\n",
    "std_groupA=np.std(groupA)\n",
    "print(mean_groupA,std_groupA)"
   ]
  },
  {
   "cell_type": "code",
   "execution_count": 8,
   "id": "a14c9226-058a-4b81-bda5-a259dd56bfda",
   "metadata": {},
   "outputs": [
    {
     "name": "stdout",
     "output_type": "stream",
     "text": [
      "76.5 2.8722813232690143\n"
     ]
    }
   ],
   "source": [
    "mean_groupB=np.mean(groupB)\n",
    "std_groupB=np.std(groupB)\n",
    "print(mean_groupB,std_groupB)"
   ]
  },
  {
   "cell_type": "code",
   "execution_count": 11,
   "id": "857d42e1-cd4e-416c-a1ab-91b722273605",
   "metadata": {},
   "outputs": [
    {
     "name": "stdout",
     "output_type": "stream",
     "text": [
      "The length of group A:10\n",
      "The length of group B:10\n"
     ]
    }
   ],
   "source": [
    "print(f\"The length of group A:{len(groupA)}\")\n",
    "print(f\"The length of group B:{len(groupB)}\")"
   ]
  },
  {
   "cell_type": "code",
   "execution_count": 15,
   "id": "39575848-10d3-4fcb-8b25-6143a9442750",
   "metadata": {
    "scrolled": true
   },
   "outputs": [
    {
     "name": "stdout",
     "output_type": "stream",
     "text": [
      "t_statistics: 4.352738307968456\n",
      "P_value: 0.00038355399190660917\n"
     ]
    }
   ],
   "source": [
    "from scipy.stats import ttest_ind\n",
    "\n",
    "t_stats,p_value=ttest_ind(groupA,groupB)\n",
    "\n",
    "print(\"t_statistics:\",t_stats)\n",
    "print(\"P_value:\",p_value)"
   ]
  },
  {
   "cell_type": "markdown",
   "id": "41b430e3-3a52-46b4-bdfa-a57057f2d218",
   "metadata": {},
   "source": [
    "**Conclusion**\n",
    "\n",
    "There is statistically significant evidence that the mean test scores of Group A and Group B are different.\n",
    "\n",
    "An independent t-test only compares means; it does not imply a relationship, correlation, or causation between the groups.What it tells you: Group A and Group B have different average test scores.Example: Group A (scores: 10, 20, 30) and Group B (scores: 19, 20, 21) have the same mean (20), but their distributions are very different."
   ]
  }
 ],
 "metadata": {
  "kernelspec": {
   "display_name": "Python 3 (ipykernel)",
   "language": "python",
   "name": "python3"
  },
  "language_info": {
   "codemirror_mode": {
    "name": "ipython",
    "version": 3
   },
   "file_extension": ".py",
   "mimetype": "text/x-python",
   "name": "python",
   "nbconvert_exporter": "python",
   "pygments_lexer": "ipython3",
   "version": "3.12.7"
  }
 },
 "nbformat": 4,
 "nbformat_minor": 5
}
