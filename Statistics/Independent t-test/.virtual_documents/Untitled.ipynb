import pandas as pd
import numpy as np


groupA= [78, 85, 82, 79, 80, 88, 84, 81, 83, 87]
groupB= [75, 78, 80, 73, 77, 79, 81, 76, 74, 72]





mean_groupA=np.mean(groupA)
std_groupA=np.std(groupA)
print(mean_groupA,std_groupA)


mean_groupB=np.mean(groupB)
std_groupB=np.std(groupB)
print(mean_groupB,std_groupB)


print(f"The length of group A:{len(groupA)}")
print(f"The length of group B:{len(groupB)}")


from scipy.stats import ttest_ind

t_stats,p_value=ttest_ind(groupA,groupB)

print("t_statistics:",t_stats)
print("P_value:",p_value)



