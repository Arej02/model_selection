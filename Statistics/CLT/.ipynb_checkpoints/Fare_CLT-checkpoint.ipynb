{
 "cells": [
  {
   "cell_type": "code",
   "execution_count": 1,
   "id": "bb330c11-cb56-49ba-b06c-1823f3da70b0",
   "metadata": {},
   "outputs": [],
   "source": [
    "import numpy as np\n",
    "import pandas as pd\n",
    "import matplotlib.pylab as plt\n",
    "import seaborn as sns"
   ]
  },
  {
   "cell_type": "code",
   "execution_count": 2,
   "id": "539095cd-45f5-44e4-b7a4-cdaed16f05cb",
   "metadata": {},
   "outputs": [
    {
     "data": {
      "text/plain": [
       "(891, 12)"
      ]
     },
     "execution_count": 2,
     "metadata": {},
     "output_type": "execute_result"
    }
   ],
   "source": [
    "titanic=pd.read_csv(\"train.csv\")\n",
    "titanic.shape"
   ]
  },
  {
   "cell_type": "code",
   "execution_count": 3,
   "id": "735c7872-6c47-4b5b-8d1d-6ef5b355e476",
   "metadata": {},
   "outputs": [
    {
     "data": {
      "text/html": [
       "<div>\n",
       "<style scoped>\n",
       "    .dataframe tbody tr th:only-of-type {\n",
       "        vertical-align: middle;\n",
       "    }\n",
       "\n",
       "    .dataframe tbody tr th {\n",
       "        vertical-align: top;\n",
       "    }\n",
       "\n",
       "    .dataframe thead th {\n",
       "        text-align: right;\n",
       "    }\n",
       "</style>\n",
       "<table border=\"1\" class=\"dataframe\">\n",
       "  <thead>\n",
       "    <tr style=\"text-align: right;\">\n",
       "      <th></th>\n",
       "      <th>PassengerId</th>\n",
       "      <th>Survived</th>\n",
       "      <th>Pclass</th>\n",
       "      <th>Name</th>\n",
       "      <th>Sex</th>\n",
       "      <th>Age</th>\n",
       "      <th>SibSp</th>\n",
       "      <th>Parch</th>\n",
       "      <th>Ticket</th>\n",
       "      <th>Fare</th>\n",
       "      <th>Cabin</th>\n",
       "      <th>Embarked</th>\n",
       "    </tr>\n",
       "  </thead>\n",
       "  <tbody>\n",
       "    <tr>\n",
       "      <th>223</th>\n",
       "      <td>224</td>\n",
       "      <td>0</td>\n",
       "      <td>3</td>\n",
       "      <td>Nenkoff, Mr. Christo</td>\n",
       "      <td>male</td>\n",
       "      <td>NaN</td>\n",
       "      <td>0</td>\n",
       "      <td>0</td>\n",
       "      <td>349234</td>\n",
       "      <td>7.8958</td>\n",
       "      <td>NaN</td>\n",
       "      <td>S</td>\n",
       "    </tr>\n",
       "    <tr>\n",
       "      <th>857</th>\n",
       "      <td>858</td>\n",
       "      <td>1</td>\n",
       "      <td>1</td>\n",
       "      <td>Daly, Mr. Peter Denis</td>\n",
       "      <td>male</td>\n",
       "      <td>51.0</td>\n",
       "      <td>0</td>\n",
       "      <td>0</td>\n",
       "      <td>113055</td>\n",
       "      <td>26.5500</td>\n",
       "      <td>E17</td>\n",
       "      <td>S</td>\n",
       "    </tr>\n",
       "    <tr>\n",
       "      <th>548</th>\n",
       "      <td>549</td>\n",
       "      <td>0</td>\n",
       "      <td>3</td>\n",
       "      <td>Goldsmith, Mr. Frank John</td>\n",
       "      <td>male</td>\n",
       "      <td>33.0</td>\n",
       "      <td>1</td>\n",
       "      <td>1</td>\n",
       "      <td>363291</td>\n",
       "      <td>20.5250</td>\n",
       "      <td>NaN</td>\n",
       "      <td>S</td>\n",
       "    </tr>\n",
       "    <tr>\n",
       "      <th>693</th>\n",
       "      <td>694</td>\n",
       "      <td>0</td>\n",
       "      <td>3</td>\n",
       "      <td>Saad, Mr. Khalil</td>\n",
       "      <td>male</td>\n",
       "      <td>25.0</td>\n",
       "      <td>0</td>\n",
       "      <td>0</td>\n",
       "      <td>2672</td>\n",
       "      <td>7.2250</td>\n",
       "      <td>NaN</td>\n",
       "      <td>C</td>\n",
       "    </tr>\n",
       "  </tbody>\n",
       "</table>\n",
       "</div>"
      ],
      "text/plain": [
       "     PassengerId  Survived  Pclass                       Name   Sex   Age  \\\n",
       "223          224         0       3       Nenkoff, Mr. Christo  male   NaN   \n",
       "857          858         1       1     Daly, Mr. Peter Denis   male  51.0   \n",
       "548          549         0       3  Goldsmith, Mr. Frank John  male  33.0   \n",
       "693          694         0       3           Saad, Mr. Khalil  male  25.0   \n",
       "\n",
       "     SibSp  Parch  Ticket     Fare Cabin Embarked  \n",
       "223      0      0  349234   7.8958   NaN        S  \n",
       "857      0      0  113055  26.5500   E17        S  \n",
       "548      1      1  363291  20.5250   NaN        S  \n",
       "693      0      0    2672   7.2250   NaN        C  "
      ]
     },
     "execution_count": 3,
     "metadata": {},
     "output_type": "execute_result"
    }
   ],
   "source": [
    "titanic.sample(4)"
   ]
  },
  {
   "cell_type": "code",
   "execution_count": 4,
   "id": "3e454067-bc9e-4b9a-b990-558230182927",
   "metadata": {},
   "outputs": [
    {
     "data": {
      "text/plain": [
       "PassengerId     0.000000\n",
       "Survived        0.000000\n",
       "Pclass          0.000000\n",
       "Name            0.000000\n",
       "Sex             0.000000\n",
       "Age            19.865320\n",
       "SibSp           0.000000\n",
       "Parch           0.000000\n",
       "Ticket          0.000000\n",
       "Fare            0.000000\n",
       "Cabin          77.104377\n",
       "Embarked        0.224467\n",
       "dtype: float64"
      ]
     },
     "execution_count": 4,
     "metadata": {},
     "output_type": "execute_result"
    }
   ],
   "source": [
    "titanic.isnull().mean()*100"
   ]
  },
  {
   "cell_type": "code",
   "execution_count": 5,
   "id": "bc5402da-7022-4b11-b466-8395eeaf2df5",
   "metadata": {},
   "outputs": [
    {
     "data": {
      "image/png": "[encoded data removed]",
      "text/plain": [
       "<Figure size 640x480 with 1 Axes>"
      ]
     },
     "metadata": {},
     "output_type": "display_data"
    }
   ],
   "source": [
    "sns.kdeplot(data=titanic,x='Fare',fill=True)\n",
    "plt.show()"
   ]
  },
  {
   "cell_type": "code",
   "execution_count": 6,
   "id": "cee1b966-7e90-4b97-a194-ee5874cc8f04",
   "metadata": {},
   "outputs": [],
   "source": [
    "samples=[]\n",
    "for i in range(100):\n",
    "    samples.append(titanic['Fare'].sample(60).values.tolist())"
   ]
  },
  {
   "cell_type": "code",
   "execution_count": 7,
   "id": "ee186b44-0f99-47d4-aa09-bb160d651d73",
   "metadata": {},
   "outputs": [
    {
     "data": {
      "text/plain": [
       "(100, 60)"
      ]
     },
     "execution_count": 7,
     "metadata": {},
     "output_type": "execute_result"
    }
   ],
   "source": [
    "samples_array=np.array(samples)\n",
    "samples_array.shape"
   ]
  },
  {
   "cell_type": "code",
   "execution_count": 8,
   "id": "21a1833c-d467-424d-8ad5-02ffc4d336cb",
   "metadata": {},
   "outputs": [],
   "source": [
    "sampling_mean=samples_array.mean(axis=1)"
   ]
  },
  {
   "cell_type": "code",
   "execution_count": 9,
   "id": "e91a510a-018f-4e47-bb3e-a9f37fcbef36",
   "metadata": {},
   "outputs": [
    {
     "data": {
      "image/png": "[encoded data removed]",
      "text/plain": [
       "<Figure size 640x480 with 1 Axes>"
      ]
     },
     "metadata": {},
     "output_type": "display_data"
    }
   ],
   "source": [
    "sns.kdeplot(sampling_mean,fill=True)\n",
    "plt.show()"
   ]
  },
  {
   "cell_type": "code",
   "execution_count": 10,
   "id": "b8570a4c-44fb-490f-99c7-97727a9c964b",
   "metadata": {},
   "outputs": [
    {
     "name": "stdout",
     "output_type": "stream",
     "text": [
      "The sampling mean is:31.817\n"
     ]
    }
   ],
   "source": [
    "print(f\"The sampling mean is:{round(sampling_mean.mean(),3)}\")"
   ]
  },
  {
   "cell_type": "code",
   "execution_count": 11,
   "id": "cf1b314e-1e92-4f78-aa41-965d2c567a0b",
   "metadata": {},
   "outputs": [
    {
     "name": "stdout",
     "output_type": "stream",
     "text": [
      "The mean of fare is:32.204\n"
     ]
    }
   ],
   "source": [
    "print(f\"The mean of fare is:{round(titanic['Fare'].mean(),3)}\")"
   ]
  },
  {
   "cell_type": "code",
   "execution_count": 12,
   "id": "1f8aa208-0b0c-42ed-91e8-48d4e57f554e",
   "metadata": {},
   "outputs": [],
   "source": [
    "std=sampling_mean.std()/np.sqrt(60)"
   ]
  },
  {
   "cell_type": "code",
   "execution_count": 13,
   "id": "7a8485f9-dd76-48fc-906f-39038e13bacd",
   "metadata": {},
   "outputs": [
    {
     "name": "stdout",
     "output_type": "stream",
     "text": [
      "The range of mean of fare is: 30.202379781631656 - 33.43118051836835\n"
     ]
    }
   ],
   "source": [
    "lower_limit=sampling_mean.mean()-2*std\n",
    "upper_limit=sampling_mean.mean()+2*std\n",
    "print(\"The range of mean of fare is:\",lower_limit,\"-\",upper_limit)"
   ]
  },
  {
   "cell_type": "markdown",
   "id": "84a5000f-3a25-4ae8-bf9d-bf1f090fa9b3",
   "metadata": {},
   "source": [
    "**Important Points:**\n",
    "\n",
    "The goal of this script is to demonstrate the Central Limit Theorem (CLT) using the Titanic dataset. I focused on the Fare column, which is not normally distributed (it’s skewed). According to the CLT, if we draw multiple samples of size n ≥ 30 from any population, the distribution of the sample means will tend to be normally distributed, regardless of the population’s original distribution.\n",
    "\n",
    "In this case, I took 100 random samples, each of size 60, and calculated the mean of each sample. I then plotted the distribution of these sample means. The resulting kdeplot clearly resembles a normal distribution, with:\n",
    "- A mean approximately equal to the population mean\n",
    "- A standard deviation close to population SD / √n\n",
    "\n",
    "This supports the CLT in practice.\n",
    "Additionally, I computed a 95% confidence interval for the mean.\n",
    " \n",
    "This means that if I repeated this process many times, 95% of the time the true population mean would lie within the interval I calculated.\n",
    "This technique is extremely useful in real-world situations, such as estimating the average salary in Nepal. Instead of surveying the entire population, we can draw a representative sample, apply the CLT, and make reliable inferences about the population mean."
   ]
  }
 ],
 "metadata": {
  "kernelspec": {
   "display_name": "Python 3 (ipykernel)",
   "language": "python",
   "name": "python3"
  },
  "language_info": {
   "codemirror_mode": {
    "name": "ipython",
    "version": 3
   },
   "file_extension": ".py",
   "mimetype": "text/x-python",
   "name": "python",
   "nbconvert_exporter": "python",
   "pygments_lexer": "ipython3",
   "version": "3.13.0"
  }
 },
 "nbformat": 4,
 "nbformat_minor": 5
}
