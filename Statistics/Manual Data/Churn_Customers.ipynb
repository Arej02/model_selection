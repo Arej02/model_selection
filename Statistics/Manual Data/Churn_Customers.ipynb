{
 "cells": [
  {
   "cell_type": "code",
   "execution_count": 1,
   "id": "543b57ce-0fcf-4793-ae4f-4b102b0a46e4",
   "metadata": {},
   "outputs": [],
   "source": [
    "import pandas as pd\n",
    "import numpy as np\n",
    "import matplotlib.pylab as plt\n",
    "import statsmodels.api as sm\n",
    "import scipy.stats as st\n",
    "from scipy.stats import chi2_contingency \n",
    "\n",
    "plt.style.use('fivethirtyeight')"
   ]
  },
  {
   "cell_type": "code",
   "execution_count": 2,
   "id": "ec00914e-16eb-41a0-b4e2-09e7ce898a21",
   "metadata": {},
   "outputs": [
    {
     "data": {
      "text/plain": [
       "(7043, 21)"
      ]
     },
     "execution_count": 2,
     "metadata": {},
     "output_type": "execute_result"
    }
   ],
   "source": [
    "churn=pd.read_csv(\"CustomerChurn.csv\")\n",
    "churn.shape"
   ]
  },
  {
   "cell_type": "code",
   "execution_count": 3,
   "id": "efb1834a-3135-4960-aea7-3117e951d4b9",
   "metadata": {},
   "outputs": [
    {
     "data": {
      "text/html": [
       "<div>\n",
       "<style scoped>\n",
       "    .dataframe tbody tr th:only-of-type {\n",
       "        vertical-align: middle;\n",
       "    }\n",
       "\n",
       "    .dataframe tbody tr th {\n",
       "        vertical-align: top;\n",
       "    }\n",
       "\n",
       "    .dataframe thead th {\n",
       "        text-align: right;\n",
       "    }\n",
       "</style>\n",
       "<table border=\"1\" class=\"dataframe\">\n",
       "  <thead>\n",
       "    <tr style=\"text-align: right;\">\n",
       "      <th></th>\n",
       "      <th>customerID</th>\n",
       "      <th>gender</th>\n",
       "      <th>SeniorCitizen</th>\n",
       "      <th>Partner</th>\n",
       "      <th>Dependents</th>\n",
       "      <th>tenure</th>\n",
       "      <th>PhoneService</th>\n",
       "      <th>MultipleLines</th>\n",
       "      <th>InternetService</th>\n",
       "      <th>OnlineSecurity</th>\n",
       "      <th>...</th>\n",
       "      <th>DeviceProtection</th>\n",
       "      <th>TechSupport</th>\n",
       "      <th>StreamingTV</th>\n",
       "      <th>StreamingMovies</th>\n",
       "      <th>Contract</th>\n",
       "      <th>PaperlessBilling</th>\n",
       "      <th>PaymentMethod</th>\n",
       "      <th>MonthlyCharges</th>\n",
       "      <th>TotalCharges</th>\n",
       "      <th>Churn</th>\n",
       "    </tr>\n",
       "  </thead>\n",
       "  <tbody>\n",
       "    <tr>\n",
       "      <th>58</th>\n",
       "      <td>3957-SQXML</td>\n",
       "      <td>Female</td>\n",
       "      <td>0</td>\n",
       "      <td>Yes</td>\n",
       "      <td>Yes</td>\n",
       "      <td>34</td>\n",
       "      <td>Yes</td>\n",
       "      <td>Yes</td>\n",
       "      <td>No</td>\n",
       "      <td>No internet service</td>\n",
       "      <td>...</td>\n",
       "      <td>No internet service</td>\n",
       "      <td>No internet service</td>\n",
       "      <td>No internet service</td>\n",
       "      <td>No internet service</td>\n",
       "      <td>Two year</td>\n",
       "      <td>No</td>\n",
       "      <td>Credit card (automatic)</td>\n",
       "      <td>24.95</td>\n",
       "      <td>894.3</td>\n",
       "      <td>No</td>\n",
       "    </tr>\n",
       "    <tr>\n",
       "      <th>3782</th>\n",
       "      <td>8800-JOOCF</td>\n",
       "      <td>Female</td>\n",
       "      <td>0</td>\n",
       "      <td>No</td>\n",
       "      <td>Yes</td>\n",
       "      <td>12</td>\n",
       "      <td>Yes</td>\n",
       "      <td>Yes</td>\n",
       "      <td>Fiber optic</td>\n",
       "      <td>No</td>\n",
       "      <td>...</td>\n",
       "      <td>No</td>\n",
       "      <td>No</td>\n",
       "      <td>Yes</td>\n",
       "      <td>No</td>\n",
       "      <td>Month-to-month</td>\n",
       "      <td>Yes</td>\n",
       "      <td>Electronic check</td>\n",
       "      <td>84.05</td>\n",
       "      <td>966.55</td>\n",
       "      <td>No</td>\n",
       "    </tr>\n",
       "    <tr>\n",
       "      <th>510</th>\n",
       "      <td>4332-MUOEZ</td>\n",
       "      <td>Male</td>\n",
       "      <td>1</td>\n",
       "      <td>Yes</td>\n",
       "      <td>Yes</td>\n",
       "      <td>20</td>\n",
       "      <td>Yes</td>\n",
       "      <td>No</td>\n",
       "      <td>Fiber optic</td>\n",
       "      <td>Yes</td>\n",
       "      <td>...</td>\n",
       "      <td>Yes</td>\n",
       "      <td>Yes</td>\n",
       "      <td>No</td>\n",
       "      <td>Yes</td>\n",
       "      <td>One year</td>\n",
       "      <td>No</td>\n",
       "      <td>Credit card (automatic)</td>\n",
       "      <td>94.30</td>\n",
       "      <td>1818.3</td>\n",
       "      <td>No</td>\n",
       "    </tr>\n",
       "    <tr>\n",
       "      <th>616</th>\n",
       "      <td>6464-KEXXH</td>\n",
       "      <td>Male</td>\n",
       "      <td>0</td>\n",
       "      <td>No</td>\n",
       "      <td>No</td>\n",
       "      <td>8</td>\n",
       "      <td>No</td>\n",
       "      <td>No phone service</td>\n",
       "      <td>DSL</td>\n",
       "      <td>No</td>\n",
       "      <td>...</td>\n",
       "      <td>No</td>\n",
       "      <td>No</td>\n",
       "      <td>No</td>\n",
       "      <td>No</td>\n",
       "      <td>Month-to-month</td>\n",
       "      <td>Yes</td>\n",
       "      <td>Credit card (automatic)</td>\n",
       "      <td>25.25</td>\n",
       "      <td>186.3</td>\n",
       "      <td>No</td>\n",
       "    </tr>\n",
       "  </tbody>\n",
       "</table>\n",
       "<p>4 rows × 21 columns</p>\n",
       "</div>"
      ],
      "text/plain": [
       "      customerID  gender  SeniorCitizen Partner Dependents  tenure  \\\n",
       "58    3957-SQXML  Female              0     Yes        Yes      34   \n",
       "3782  8800-JOOCF  Female              0      No        Yes      12   \n",
       "510   4332-MUOEZ    Male              1     Yes        Yes      20   \n",
       "616   6464-KEXXH    Male              0      No         No       8   \n",
       "\n",
       "     PhoneService     MultipleLines InternetService       OnlineSecurity  ...  \\\n",
       "58            Yes               Yes              No  No internet service  ...   \n",
       "3782          Yes               Yes     Fiber optic                   No  ...   \n",
       "510           Yes                No     Fiber optic                  Yes  ...   \n",
       "616            No  No phone service             DSL                   No  ...   \n",
       "\n",
       "         DeviceProtection          TechSupport          StreamingTV  \\\n",
       "58    No internet service  No internet service  No internet service   \n",
       "3782                   No                   No                  Yes   \n",
       "510                   Yes                  Yes                   No   \n",
       "616                    No                   No                   No   \n",
       "\n",
       "          StreamingMovies        Contract PaperlessBilling  \\\n",
       "58    No internet service        Two year               No   \n",
       "3782                   No  Month-to-month              Yes   \n",
       "510                   Yes        One year               No   \n",
       "616                    No  Month-to-month              Yes   \n",
       "\n",
       "                PaymentMethod MonthlyCharges  TotalCharges Churn  \n",
       "58    Credit card (automatic)          24.95         894.3    No  \n",
       "3782         Electronic check          84.05        966.55    No  \n",
       "510   Credit card (automatic)          94.30        1818.3    No  \n",
       "616   Credit card (automatic)          25.25         186.3    No  \n",
       "\n",
       "[4 rows x 21 columns]"
      ]
     },
     "execution_count": 3,
     "metadata": {},
     "output_type": "execute_result"
    }
   ],
   "source": [
    "churn.sample(4)"
   ]
  },
  {
   "cell_type": "markdown",
   "id": "e77eafa4-836e-40e4-b94c-c6ad9cf74dc6",
   "metadata": {},
   "source": [
    "# Two sample t test:"
   ]
  },
  {
   "cell_type": "markdown",
   "id": "fc3f5639-ea92-4398-b7c9-c4381436cf6f",
   "metadata": {},
   "source": [
    "**Null Hypothesis:** Mean monthly charges are the same for churn and non-churn customers\n",
    "\n",
    "**Alternate Hypothesis:** Mean monthly charges are not same for churn and non-churn customers"
   ]
  },
  {
   "cell_type": "code",
   "execution_count": 4,
   "id": "bf845f3e-b737-4b8e-84e4-c670803785f9",
   "metadata": {},
   "outputs": [
    {
     "data": {
      "image/png": "[encoded data removed]",
      "text/plain": [
       "<Figure size 640x480 with 1 Axes>"
      ]
     },
     "metadata": {},
     "output_type": "display_data"
    }
   ],
   "source": [
    "sm.qqplot(churn['MonthlyCharges'],line='45')\n",
    "plt.show()"
   ]
  },
  {
   "cell_type": "code",
   "execution_count": 5,
   "id": "e6049128-cc8b-46b9-bd5d-b34891ed7636",
   "metadata": {},
   "outputs": [],
   "source": [
    "churn_customers=churn[churn['Churn']=='Yes']['MonthlyCharges']\n",
    "loyal_customers=churn[churn['Churn']=='No']['MonthlyCharges']"
   ]
  },
  {
   "cell_type": "code",
   "execution_count": 6,
   "id": "5ef65f69-df4e-400b-8b7b-95bf45e3a6cd",
   "metadata": {},
   "outputs": [],
   "source": [
    "t_stats,p_value=st.ttest_ind(a=churn_customers,b=loyal_customers,equal_var=False)"
   ]
  },
  {
   "cell_type": "code",
   "execution_count": 7,
   "id": "8bbecb3f-a7df-4075-8df6-9db5bbb12d90",
   "metadata": {},
   "outputs": [
    {
     "name": "stdout",
     "output_type": "stream",
     "text": [
      "The test statistics is 18.41, and the p_value is 0.0\n"
     ]
    }
   ],
   "source": [
    "print(f\"The test statistics is {round(t_stats,2)}, and the p_value is {round(p_value,4)}\")"
   ]
  },
  {
   "cell_type": "markdown",
   "id": "12b0d11a-cdf4-43fe-b18b-b5aa5a4beb77",
   "metadata": {},
   "source": [
    "With a t statistics of 18.41 and p_value less than 0.05, we reject the null hypothesis, suggesting that there is a significant difference between average monthly charges between the two types of customers."
   ]
  },
  {
   "cell_type": "markdown",
   "id": "f4686667-e0ea-427e-b6aa-dc424f029cdb",
   "metadata": {},
   "source": [
    "# Chi Square test for Independence:"
   ]
  },
  {
   "cell_type": "markdown",
   "id": "386565ad-2665-4b3c-845e-03d039a2c925",
   "metadata": {},
   "source": [
    "**Null Hypothesis:** Churn is independent of payment method (i.e., paying via Electronic Check or not doesn't affect churn rate).\n",
    "\n",
    "**Alternate Hypothesis:** Churn rates is different between Electronic Check payers and those using other payment methods"
   ]
  },
  {
   "cell_type": "code",
   "execution_count": 8,
   "id": "0ec177ee-86e4-496f-a12e-965de028f52e",
   "metadata": {},
   "outputs": [
    {
     "data": {
      "text/plain": [
       "array(['Electronic check', 'Mailed check', 'Bank transfer (automatic)',\n",
       "       'Credit card (automatic)'], dtype=object)"
      ]
     },
     "execution_count": 8,
     "metadata": {},
     "output_type": "execute_result"
    }
   ],
   "source": [
    "churn['PaymentMethod'].unique()"
   ]
  },
  {
   "cell_type": "code",
   "execution_count": 9,
   "id": "60e5792a-7677-402f-8bd3-67626d0f123c",
   "metadata": {},
   "outputs": [],
   "source": [
    "churn['Payment']=churn['PaymentMethod'].apply(lambda x: 'Electronic Method' if x=='Electronic check' else 'Other')"
   ]
  },
  {
   "cell_type": "code",
   "execution_count": 10,
   "id": "b9bef2f6-e413-419e-9eb1-42f4460e27b1",
   "metadata": {},
   "outputs": [
    {
     "data": {
      "text/html": [
       "<div>\n",
       "<style scoped>\n",
       "    .dataframe tbody tr th:only-of-type {\n",
       "        vertical-align: middle;\n",
       "    }\n",
       "\n",
       "    .dataframe tbody tr th {\n",
       "        vertical-align: top;\n",
       "    }\n",
       "\n",
       "    .dataframe thead th {\n",
       "        text-align: right;\n",
       "    }\n",
       "</style>\n",
       "<table border=\"1\" class=\"dataframe\">\n",
       "  <thead>\n",
       "    <tr style=\"text-align: right;\">\n",
       "      <th>Churn</th>\n",
       "      <th>No</th>\n",
       "      <th>Yes</th>\n",
       "    </tr>\n",
       "    <tr>\n",
       "      <th>Payment</th>\n",
       "      <th></th>\n",
       "      <th></th>\n",
       "    </tr>\n",
       "  </thead>\n",
       "  <tbody>\n",
       "    <tr>\n",
       "      <th>Electronic Method</th>\n",
       "      <td>1294</td>\n",
       "      <td>1071</td>\n",
       "    </tr>\n",
       "    <tr>\n",
       "      <th>Other</th>\n",
       "      <td>3880</td>\n",
       "      <td>798</td>\n",
       "    </tr>\n",
       "  </tbody>\n",
       "</table>\n",
       "</div>"
      ],
      "text/plain": [
       "Churn                No   Yes\n",
       "Payment                      \n",
       "Electronic Method  1294  1071\n",
       "Other              3880   798"
      ]
     },
     "execution_count": 10,
     "metadata": {},
     "output_type": "execute_result"
    }
   ],
   "source": [
    "observed=pd.crosstab(churn['Payment'],churn['Churn'])\n",
    "observed"
   ]
  },
  {
   "cell_type": "code",
   "execution_count": 11,
   "id": "57ca1236-0d8a-4901-b062-b3eb4133c9b4",
   "metadata": {},
   "outputs": [],
   "source": [
    "res=chi2_contingency(observed)"
   ]
  },
  {
   "cell_type": "code",
   "execution_count": 12,
   "id": "1634ea0e-1463-4410-8321-44c298a0d278",
   "metadata": {},
   "outputs": [
    {
     "name": "stdout",
     "output_type": "stream",
     "text": [
      "The test statistics is 640.56, and the p_value is 0.0\n"
     ]
    }
   ],
   "source": [
    "print(f\"The test statistics is {round(res.statistic,2)}, and the p_value is {round(res.pvalue,4)}\")"
   ]
  },
  {
   "cell_type": "code",
   "execution_count": 13,
   "id": "1384898d-c841-4e3d-bff6-96588dd5f4e4",
   "metadata": {},
   "outputs": [
    {
     "data": {
      "text/plain": [
       "array([[1737.40025557,  627.59974443],\n",
       "       [3436.59974443, 1241.40025557]])"
      ]
     },
     "execution_count": 13,
     "metadata": {},
     "output_type": "execute_result"
    }
   ],
   "source": [
    "res.expected_freq"
   ]
  },
  {
   "cell_type": "markdown",
   "id": "fbe2e5d2-6ce9-49d8-bfee-bdfa9a72f096",
   "metadata": {},
   "source": [
    "With a test statistics of 640.56 and p_value less than 0.05, we reject the null hypothesis, suggesting evidence that churn is related to payment method — particularly, customers who pay via Electronic Check are much more likely to churn than others."
   ]
  },
  {
   "cell_type": "markdown",
   "id": "3173a0e5-2aa9-41ae-a6c6-277f737194a1",
   "metadata": {},
   "source": [
    "# Two sample t test:"
   ]
  },
  {
   "cell_type": "markdown",
   "id": "eb3723b9-46a7-46aa-9dee-6c5ab01f8e18",
   "metadata": {},
   "source": [
    "**Null Hypothesis:** The mean tenure is equal for both churners and non-churners\n",
    "\n",
    "**Alternate Hypotheis:** The mean tenure is different between the two groups."
   ]
  },
  {
   "cell_type": "code",
   "execution_count": 14,
   "id": "661ebd50-d56e-4e39-bb04-5d73c27ab6c2",
   "metadata": {},
   "outputs": [
    {
     "data": {
      "image/png": "[encoded data removed]",
      "text/plain": [
       "<Figure size 640x480 with 1 Axes>"
      ]
     },
     "metadata": {},
     "output_type": "display_data"
    }
   ],
   "source": [
    "sm.qqplot(churn['tenure'],line='45')\n",
    "\n",
    "plt.show()"
   ]
  },
  {
   "cell_type": "code",
   "execution_count": 15,
   "id": "2fef37fa-ab02-4646-bff4-396898423a46",
   "metadata": {},
   "outputs": [],
   "source": [
    "loyal_customers=churn[churn['Churn']==\"No\"][\"tenure\"]\n",
    "churn_customers=churn[churn['Churn']==\"Yes\"][\"tenure\"]"
   ]
  },
  {
   "cell_type": "code",
   "execution_count": 16,
   "id": "77e532b9-0c87-42bc-b492-049b4fc6ce33",
   "metadata": {},
   "outputs": [
    {
     "name": "stdout",
     "output_type": "stream",
     "text": [
      "Student's T-Test assuming equal variances:\n",
      "T-statistic: 31.57955051135377\n",
      "P-value: 7.99905796059022e-205\n"
     ]
    }
   ],
   "source": [
    "t_stat, p_value_equal_var = st.ttest_ind(a=loyal_customers, b=churn_customers, equal_var=True)\n",
    "\n",
    "print(\"Student's T-Test assuming equal variances:\")\n",
    "print(f\"T-statistic: {t_stat}\")\n",
    "print(f\"P-value: {p_value_equal_var}\")"
   ]
  },
  {
   "cell_type": "markdown",
   "id": "b208a977-1ea3-4847-ae0e-62f9cc331882",
   "metadata": {},
   "source": [
    "With a t statistics of 31.6 and p-value less than 0.05, we reject the null hypothesis and conclude that the tenure for both the types of customers are different."
   ]
  },
  {
   "cell_type": "markdown",
   "id": "a7056050-469b-4a22-a0c1-f0373c0d19b9",
   "metadata": {},
   "source": [
    "# Chi Square test for Independence:"
   ]
  },
  {
   "cell_type": "code",
   "execution_count": 17,
   "id": "902a3470-895a-41eb-8082-2cbf3e23e66d",
   "metadata": {},
   "outputs": [
    {
     "data": {
      "text/plain": [
       "count    7043.000000\n",
       "mean       32.371149\n",
       "std        24.559481\n",
       "min         0.000000\n",
       "25%         9.000000\n",
       "50%        29.000000\n",
       "75%        55.000000\n",
       "max        72.000000\n",
       "Name: tenure, dtype: float64"
      ]
     },
     "execution_count": 17,
     "metadata": {},
     "output_type": "execute_result"
    }
   ],
   "source": [
    "churn['tenure'].describe()"
   ]
  },
  {
   "cell_type": "code",
   "execution_count": 18,
   "id": "fcf2a65e-5a15-4e81-a7ed-7ffaae31df04",
   "metadata": {},
   "outputs": [
    {
     "data": {
      "text/plain": [
       "0                New\n",
       "1       Intermediate\n",
       "2                New\n",
       "3        Experienced\n",
       "4                New\n",
       "            ...     \n",
       "7038    Intermediate\n",
       "7039         Veteran\n",
       "7040             New\n",
       "7041             New\n",
       "7042         Veteran\n",
       "Name: tenure_category, Length: 7043, dtype: category\n",
       "Categories (4, object): ['New' < 'Intermediate' < 'Experienced' < 'Veteran']"
      ]
     },
     "execution_count": 18,
     "metadata": {},
     "output_type": "execute_result"
    }
   ],
   "source": [
    "bins = [0, 12, 36, 60, 72]\n",
    "labels = ['New', 'Intermediate', 'Experienced', 'Veteran']\n",
    "churn['tenure_category'] = pd.cut(churn['tenure'], bins=bins, labels=labels, right=True, include_lowest=True)\n",
    "churn['tenure_category']"
   ]
  },
  {
   "cell_type": "markdown",
   "id": "30baf6b5-b671-47e3-81f3-86d560b217a9",
   "metadata": {},
   "source": [
    "**Null Hypothesis:** Churn is independent of tenure category\n",
    "\n",
    "**Alternate Hypothesis:** Churn depends on tenure category"
   ]
  },
  {
   "cell_type": "code",
   "execution_count": 19,
   "id": "7f16aa72-9a26-45f5-b728-7b8fb2316dee",
   "metadata": {},
   "outputs": [
    {
     "data": {
      "text/html": [
       "<div>\n",
       "<style scoped>\n",
       "    .dataframe tbody tr th:only-of-type {\n",
       "        vertical-align: middle;\n",
       "    }\n",
       "\n",
       "    .dataframe tbody tr th {\n",
       "        vertical-align: top;\n",
       "    }\n",
       "\n",
       "    .dataframe thead th {\n",
       "        text-align: right;\n",
       "    }\n",
       "</style>\n",
       "<table border=\"1\" class=\"dataframe\">\n",
       "  <thead>\n",
       "    <tr style=\"text-align: right;\">\n",
       "      <th>Churn</th>\n",
       "      <th>No</th>\n",
       "      <th>Yes</th>\n",
       "    </tr>\n",
       "    <tr>\n",
       "      <th>tenure_category</th>\n",
       "      <th></th>\n",
       "      <th></th>\n",
       "    </tr>\n",
       "  </thead>\n",
       "  <tbody>\n",
       "    <tr>\n",
       "      <th>New</th>\n",
       "      <td>1149</td>\n",
       "      <td>1037</td>\n",
       "    </tr>\n",
       "    <tr>\n",
       "      <th>Intermediate</th>\n",
       "      <td>1382</td>\n",
       "      <td>474</td>\n",
       "    </tr>\n",
       "    <tr>\n",
       "      <th>Experienced</th>\n",
       "      <td>1329</td>\n",
       "      <td>265</td>\n",
       "    </tr>\n",
       "    <tr>\n",
       "      <th>Veteran</th>\n",
       "      <td>1314</td>\n",
       "      <td>93</td>\n",
       "    </tr>\n",
       "  </tbody>\n",
       "</table>\n",
       "</div>"
      ],
      "text/plain": [
       "Churn              No   Yes\n",
       "tenure_category            \n",
       "New              1149  1037\n",
       "Intermediate     1382   474\n",
       "Experienced      1329   265\n",
       "Veteran          1314    93"
      ]
     },
     "execution_count": 19,
     "metadata": {},
     "output_type": "execute_result"
    }
   ],
   "source": [
    "observed=pd.crosstab(churn['tenure_category'],churn['Churn'])\n",
    "observed"
   ]
  },
  {
   "cell_type": "code",
   "execution_count": 20,
   "id": "cf1e61c7-c808-4726-b408-6ad7e4f3e45a",
   "metadata": {},
   "outputs": [],
   "source": [
    "res = chi2_contingency(observed, correction=False)"
   ]
  },
  {
   "cell_type": "code",
   "execution_count": 21,
   "id": "5df929b5-4889-4a0c-a730-ca4a9ec20a4d",
   "metadata": {},
   "outputs": [
    {
     "name": "stdout",
     "output_type": "stream",
     "text": [
      "The test statistics is 857.74, and the p_value is 0.0\n"
     ]
    }
   ],
   "source": [
    "print(f\"The test statistics is {round(res.statistic,2)}, and the p_value is {round(res.pvalue,4)}\")"
   ]
  },
  {
   "cell_type": "markdown",
   "id": "0ea3486c-a1d0-4695-993b-f13e827a3ea9",
   "metadata": {},
   "source": [
    "With a test statist of 857.74 and p value less that 0.05, we reject the null hypothesis and conclude that the tenure of churners and non-churners are different"
   ]
  },
  {
   "cell_type": "code",
   "execution_count": 22,
   "id": "1e39597e-2bb4-490c-95ae-664fabc89870",
   "metadata": {},
   "outputs": [
    {
     "data": {
      "image/png": "[encoded data removed]",
      "text/plain": [
       "<Figure size 800x500 with 1 Axes>"
      ]
     },
     "metadata": {},
     "output_type": "display_data"
    }
   ],
   "source": [
    "observed_percent = pd.crosstab(churn['tenure_category'], churn['Churn'], normalize='index')\n",
    "\n",
    "# Plot\n",
    "observed_percent.plot(kind='bar', stacked=True, colormap='Set2', figsize=(8,5))\n",
    "plt.title('Churn Rate by Tenure Category (Proportions)')\n",
    "plt.ylabel('Proportion')\n",
    "plt.xlabel('Tenure Category')\n",
    "plt.xticks(rotation=0)\n",
    "plt.legend(title='Churn')\n",
    "plt.tight_layout()\n",
    "plt.show()"
   ]
  },
  {
   "cell_type": "markdown",
   "id": "604902b6-b506-442d-8a27-1d1dcee2df31",
   "metadata": {},
   "source": [
    "We can also confirm from the plot that churning depends on tenure."
   ]
  }
 ],
 "metadata": {
  "kernelspec": {
   "display_name": "Python 3 (ipykernel)",
   "language": "python",
   "name": "python3"
  },
  "language_info": {
   "codemirror_mode": {
    "name": "ipython",
    "version": 3
   },
   "file_extension": ".py",
   "mimetype": "text/x-python",
   "name": "python",
   "nbconvert_exporter": "python",
   "pygments_lexer": "ipython3",
   "version": "3.13.0"
  }
 },
 "nbformat": 4,
 "nbformat_minor": 5
}
