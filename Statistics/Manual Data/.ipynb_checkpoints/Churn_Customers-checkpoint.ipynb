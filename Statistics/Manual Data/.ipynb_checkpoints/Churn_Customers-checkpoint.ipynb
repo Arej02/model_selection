{
 "cells": [
  {
   "cell_type": "code",
   "execution_count": 17,
   "id": "543b57ce-0fcf-4793-ae4f-4b102b0a46e4",
   "metadata": {},
   "outputs": [],
   "source": [
    "import pandas as pd\n",
    "import numpy as np\n",
    "import matplotlib.pylab as plt\n",
    "import statsmodels.api as sm\n",
    "import scipy.stats as st\n",
    "\n",
    "plt.style.use('fivethirtyeight')"
   ]
  },
  {
   "cell_type": "code",
   "execution_count": 18,
   "id": "ec00914e-16eb-41a0-b4e2-09e7ce898a21",
   "metadata": {},
   "outputs": [
    {
     "data": {
      "text/plain": [
       "(7043, 21)"
      ]
     },
     "execution_count": 18,
     "metadata": {},
     "output_type": "execute_result"
    }
   ],
   "source": [
    "churn=pd.read_csv(\"CustomerChurn.csv\")\n",
    "churn.shape"
   ]
  },
  {
   "cell_type": "code",
   "execution_count": 19,
   "id": "efb1834a-3135-4960-aea7-3117e951d4b9",
   "metadata": {},
   "outputs": [
    {
     "data": {
      "text/html": [
       "<div>\n",
       "<style scoped>\n",
       "    .dataframe tbody tr th:only-of-type {\n",
       "        vertical-align: middle;\n",
       "    }\n",
       "\n",
       "    .dataframe tbody tr th {\n",
       "        vertical-align: top;\n",
       "    }\n",
       "\n",
       "    .dataframe thead th {\n",
       "        text-align: right;\n",
       "    }\n",
       "</style>\n",
       "<table border=\"1\" class=\"dataframe\">\n",
       "  <thead>\n",
       "    <tr style=\"text-align: right;\">\n",
       "      <th></th>\n",
       "      <th>customerID</th>\n",
       "      <th>gender</th>\n",
       "      <th>SeniorCitizen</th>\n",
       "      <th>Partner</th>\n",
       "      <th>Dependents</th>\n",
       "      <th>tenure</th>\n",
       "      <th>PhoneService</th>\n",
       "      <th>MultipleLines</th>\n",
       "      <th>InternetService</th>\n",
       "      <th>OnlineSecurity</th>\n",
       "      <th>...</th>\n",
       "      <th>DeviceProtection</th>\n",
       "      <th>TechSupport</th>\n",
       "      <th>StreamingTV</th>\n",
       "      <th>StreamingMovies</th>\n",
       "      <th>Contract</th>\n",
       "      <th>PaperlessBilling</th>\n",
       "      <th>PaymentMethod</th>\n",
       "      <th>MonthlyCharges</th>\n",
       "      <th>TotalCharges</th>\n",
       "      <th>Churn</th>\n",
       "    </tr>\n",
       "  </thead>\n",
       "  <tbody>\n",
       "    <tr>\n",
       "      <th>2936</th>\n",
       "      <td>3352-ALMCK</td>\n",
       "      <td>Male</td>\n",
       "      <td>0</td>\n",
       "      <td>No</td>\n",
       "      <td>No</td>\n",
       "      <td>40</td>\n",
       "      <td>Yes</td>\n",
       "      <td>Yes</td>\n",
       "      <td>Fiber optic</td>\n",
       "      <td>No</td>\n",
       "      <td>...</td>\n",
       "      <td>Yes</td>\n",
       "      <td>No</td>\n",
       "      <td>Yes</td>\n",
       "      <td>Yes</td>\n",
       "      <td>Month-to-month</td>\n",
       "      <td>Yes</td>\n",
       "      <td>Mailed check</td>\n",
       "      <td>102.65</td>\n",
       "      <td>4108.15</td>\n",
       "      <td>No</td>\n",
       "    </tr>\n",
       "    <tr>\n",
       "      <th>5584</th>\n",
       "      <td>6330-JKLPC</td>\n",
       "      <td>Male</td>\n",
       "      <td>0</td>\n",
       "      <td>Yes</td>\n",
       "      <td>No</td>\n",
       "      <td>11</td>\n",
       "      <td>Yes</td>\n",
       "      <td>Yes</td>\n",
       "      <td>Fiber optic</td>\n",
       "      <td>No</td>\n",
       "      <td>...</td>\n",
       "      <td>No</td>\n",
       "      <td>No</td>\n",
       "      <td>No</td>\n",
       "      <td>No</td>\n",
       "      <td>Month-to-month</td>\n",
       "      <td>Yes</td>\n",
       "      <td>Bank transfer (automatic)</td>\n",
       "      <td>80.50</td>\n",
       "      <td>896.9</td>\n",
       "      <td>Yes</td>\n",
       "    </tr>\n",
       "    <tr>\n",
       "      <th>831</th>\n",
       "      <td>9650-VBUOG</td>\n",
       "      <td>Male</td>\n",
       "      <td>0</td>\n",
       "      <td>Yes</td>\n",
       "      <td>Yes</td>\n",
       "      <td>38</td>\n",
       "      <td>Yes</td>\n",
       "      <td>Yes</td>\n",
       "      <td>No</td>\n",
       "      <td>No internet service</td>\n",
       "      <td>...</td>\n",
       "      <td>No internet service</td>\n",
       "      <td>No internet service</td>\n",
       "      <td>No internet service</td>\n",
       "      <td>No internet service</td>\n",
       "      <td>Two year</td>\n",
       "      <td>No</td>\n",
       "      <td>Credit card (automatic)</td>\n",
       "      <td>25.05</td>\n",
       "      <td>963.95</td>\n",
       "      <td>No</td>\n",
       "    </tr>\n",
       "    <tr>\n",
       "      <th>4122</th>\n",
       "      <td>4632-XJMEX</td>\n",
       "      <td>Male</td>\n",
       "      <td>0</td>\n",
       "      <td>No</td>\n",
       "      <td>Yes</td>\n",
       "      <td>53</td>\n",
       "      <td>Yes</td>\n",
       "      <td>No</td>\n",
       "      <td>DSL</td>\n",
       "      <td>Yes</td>\n",
       "      <td>...</td>\n",
       "      <td>No</td>\n",
       "      <td>Yes</td>\n",
       "      <td>No</td>\n",
       "      <td>No</td>\n",
       "      <td>One year</td>\n",
       "      <td>No</td>\n",
       "      <td>Credit card (automatic)</td>\n",
       "      <td>62.85</td>\n",
       "      <td>3419.5</td>\n",
       "      <td>No</td>\n",
       "    </tr>\n",
       "  </tbody>\n",
       "</table>\n",
       "<p>4 rows × 21 columns</p>\n",
       "</div>"
      ],
      "text/plain": [
       "      customerID gender  SeniorCitizen Partner Dependents  tenure  \\\n",
       "2936  3352-ALMCK   Male              0      No         No      40   \n",
       "5584  6330-JKLPC   Male              0     Yes         No      11   \n",
       "831   9650-VBUOG   Male              0     Yes        Yes      38   \n",
       "4122  4632-XJMEX   Male              0      No        Yes      53   \n",
       "\n",
       "     PhoneService MultipleLines InternetService       OnlineSecurity  ...  \\\n",
       "2936          Yes           Yes     Fiber optic                   No  ...   \n",
       "5584          Yes           Yes     Fiber optic                   No  ...   \n",
       "831           Yes           Yes              No  No internet service  ...   \n",
       "4122          Yes            No             DSL                  Yes  ...   \n",
       "\n",
       "         DeviceProtection          TechSupport          StreamingTV  \\\n",
       "2936                  Yes                   No                  Yes   \n",
       "5584                   No                   No                   No   \n",
       "831   No internet service  No internet service  No internet service   \n",
       "4122                   No                  Yes                   No   \n",
       "\n",
       "          StreamingMovies        Contract PaperlessBilling  \\\n",
       "2936                  Yes  Month-to-month              Yes   \n",
       "5584                   No  Month-to-month              Yes   \n",
       "831   No internet service        Two year               No   \n",
       "4122                   No        One year               No   \n",
       "\n",
       "                  PaymentMethod MonthlyCharges  TotalCharges Churn  \n",
       "2936               Mailed check         102.65       4108.15    No  \n",
       "5584  Bank transfer (automatic)          80.50         896.9   Yes  \n",
       "831     Credit card (automatic)          25.05        963.95    No  \n",
       "4122    Credit card (automatic)          62.85        3419.5    No  \n",
       "\n",
       "[4 rows x 21 columns]"
      ]
     },
     "execution_count": 19,
     "metadata": {},
     "output_type": "execute_result"
    }
   ],
   "source": [
    "churn.sample(4)"
   ]
  },
  {
   "cell_type": "markdown",
   "id": "e77eafa4-836e-40e4-b94c-c6ad9cf74dc6",
   "metadata": {},
   "source": [
    "# Two sample t test:"
   ]
  },
  {
   "cell_type": "markdown",
   "id": "fc3f5639-ea92-4398-b7c9-c4381436cf6f",
   "metadata": {},
   "source": [
    "**Null Hypothesis:** Mean monthly charges are the same for churn and non-churn customers\n",
    "\n",
    "**Alternate Hypothesis:** Mean monthly charges are not same for churn and non-churn customers"
   ]
  },
  {
   "cell_type": "code",
   "execution_count": 20,
   "id": "bf845f3e-b737-4b8e-84e4-c670803785f9",
   "metadata": {},
   "outputs": [
    {
     "data": {
      "image/png": "[encoded data removed]",
      "text/plain": [
       "<Figure size 640x480 with 1 Axes>"
      ]
     },
     "metadata": {},
     "output_type": "display_data"
    }
   ],
   "source": [
    "sm.qqplot(churn['MonthlyCharges'],line='45')\n",
    "plt.show()"
   ]
  },
  {
   "cell_type": "code",
   "execution_count": 21,
   "id": "e6049128-cc8b-46b9-bd5d-b34891ed7636",
   "metadata": {},
   "outputs": [],
   "source": [
    "churn_customers=churn[churn['Churn']=='Yes']['MonthlyCharges']\n",
    "loyal_customers=churn[churn['Churn']=='No']['MonthlyCharges']"
   ]
  },
  {
   "cell_type": "code",
   "execution_count": 23,
   "id": "5ef65f69-df4e-400b-8b7b-95bf45e3a6cd",
   "metadata": {},
   "outputs": [],
   "source": [
    "t_stats,p_value=st.ttest_ind(a=churn_customers,b=loyal_customers,equal_var=False)"
   ]
  },
  {
   "cell_type": "code",
   "execution_count": 26,
   "id": "8bbecb3f-a7df-4075-8df6-9db5bbb12d90",
   "metadata": {},
   "outputs": [
    {
     "name": "stdout",
     "output_type": "stream",
     "text": [
      "The test statistics is 18.41, and the p_value is 0.0\n"
     ]
    }
   ],
   "source": [
    "print(f\"The test statistics is {round(t_stats,2)}, and the p_value is {round(p_value,4)}\")"
   ]
  },
  {
   "cell_type": "markdown",
   "id": "12b0d11a-cdf4-43fe-b18b-b5aa5a4beb77",
   "metadata": {},
   "source": [
    "With a t statistics of 18.41 and p_value less than 0.05, we reject the null hypothesis, suggesting that there is a significant difference between average monthly charges between the two types of customers."
   ]
  }
 ],
 "metadata": {
  "kernelspec": {
   "display_name": "Python 3 (ipykernel)",
   "language": "python",
   "name": "python3"
  },
  "language_info": {
   "codemirror_mode": {
    "name": "ipython",
    "version": 3
   },
   "file_extension": ".py",
   "mimetype": "text/x-python",
   "name": "python",
   "nbconvert_exporter": "python",
   "pygments_lexer": "ipython3",
   "version": "3.13.0"
  }
 },
 "nbformat": 4,
 "nbformat_minor": 5
}
