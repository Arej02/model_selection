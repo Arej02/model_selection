import pandas as pd


df = pd.read_csv('https://raw.githubusercontent.com/selva86/datasets/master/BostonHousing.csv')


df.sample(3)


df.shape


df.isnull().mean()*100


X=df.drop(columns=['medv'])
Y=df['medv']


from sklearn.model_selection import train_test_split
X_train,X_test,Y_train,Y_test=train_test_split(X,Y,test_size=0.2,random_state=10)
X_train.shape,X_test.shape


from sklearn.neighbors import KNeighborsRegressor
knn=KNeighborsRegressor()





from sklearn.model_selection import cross_val_score,KFold

kfold=KFold(n_splits=5,shuffle=True,random_state=10)
score=cross_val_score(knn,X_train,Y_train,scoring='r2',cv=kfold)
score.mean()





from sklearn.model_selection import GridSearchCV
params={
    "weights":['uniform', 'distance'],
    "algorithm":['auto','ball_tree','kd_tree','brute'],
    "n_neighbors":[5,6,7,8,9,10,12],
    "p":[1,2]   
}


knn=KNeighborsRegressor()


grid=GridSearchCV(knn,params,cv=kfold,scoring='r2',refit=True)


grid.fit(X_train,Y_train)


grid.best_params_


grid.best_score_


pd.DataFrame(grid.cv_results_)[["param_algorithm","param_n_neighbors","param_p","param_weights","mean_test_score"]].sort_values("mean_test_score",ascending=False)


from sklearn.model_selection import RandomizedSearchCV


rsc=RandomizedSearchCV(knn,params,scoring='r2',cv=kfold,refit=True)
rsc.fit(X_train,Y_train)


rsc.best_params_






